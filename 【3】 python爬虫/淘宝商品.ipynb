{
 "cells": [
  {
   "cell_type": "code",
   "execution_count": 3,
   "metadata": {
    "collapsed": true
   },
   "outputs": [],
   "source": [
    "# 素质四连，固定套路\n",
    "# 导入模块\n",
    "from selenium import webdriver\n",
    "# 指定网址\n",
    "url = 'https://www.taobao.com/'\n",
    "# 打开浏览器，指定为chrome浏览器\n",
    "driver = webdriver.Chrome(r\"C:\\Users\\admin\\Desktop\\chromedriver.exe\")\n",
    "# 加载网页\n",
    "driver.get(url)\n"
   ]
  },
  {
   "cell_type": "code",
   "execution_count": 4,
   "metadata": {
    "collapsed": true
   },
   "outputs": [],
   "source": [
    "# \n",
    "url ='https://weibo.com/login.php?spm=a2107.1.0.0.cdfa11d92VSJXt&entry=taobao&goto=https%3A%2F%2Flogin.taobao.com%2Faso%2Ftvs%3Fdomain%3Dweibo%26sid%3D8a741a03561f6b89508c5ac585871d95%26target%3D68747470733A2F2F7777772E74616F62616F2E636F6D2F&goto2=https%3A%2F%2Fwww.taobao.com%2F'\n",
    "# 加载网页\n",
    "driver.get(url)"
   ]
  },
  {
   "cell_type": "code",
   "execution_count": 5,
   "metadata": {
    "collapsed": true
   },
   "outputs": [],
   "source": [
    "# 目标是获取手机名称、价格、月销量、评论数"
   ]
  },
  {
   "cell_type": "code",
   "execution_count": 6,
   "metadata": {
    "collapsed": true
   },
   "outputs": [],
   "source": [
    "# 获取所有商品的链接\n",
    "pros = driver.find_elements_by_xpath('//div[@class=\"row row-2 title\"]/a')"
   ]
  },
  {
   "cell_type": "code",
   "execution_count": 7,
   "metadata": {},
   "outputs": [
    {
     "data": {
      "text/plain": [
       "44"
      ]
     },
     "execution_count": 7,
     "metadata": {},
     "output_type": "execute_result"
    }
   ],
   "source": [
    "len(pros)"
   ]
  },
  {
   "cell_type": "code",
   "execution_count": 9,
   "metadata": {
    "collapsed": true
   },
   "outputs": [],
   "source": [
    "pros[0].click()"
   ]
  },
  {
   "cell_type": "code",
   "execution_count": 12,
   "metadata": {
    "collapsed": true
   },
   "outputs": [],
   "source": [
    "# 操作对象切换到打开的页面\n",
    "driver.switch_to.window(driver.window_handles[1])"
   ]
  },
  {
   "cell_type": "code",
   "execution_count": 27,
   "metadata": {},
   "outputs": [
    {
     "name": "stdout",
     "output_type": "stream",
     "text": [
      "【年货节 24期免息】Huawei/华为Mate 30 5G麒麟990超感光徕卡三摄5G智能手机mate305g官方旗舰店\n",
      "¥ 4999.00-5499.00   \n",
      "3.5万+\n",
      "23303\n"
     ]
    }
   ],
   "source": [
    "# 商品名称,注意使用单数的element\n",
    "title = driver.find_element_by_xpath('//h1[@data-spm=\"1000983\"]').text\n",
    "print(title)\n",
    "# 价格\n",
    "price = driver.find_element_by_xpath('//div[@class=\"tm-promo-price\"]').text\n",
    "print(price)\n",
    "# 月销量\n",
    "mcount = driver.find_element_by_xpath('//span[@class=\"tm-count\"]').text\n",
    "print(mcount)\n",
    "# 评论数\n",
    "ccount = driver.find_element_by_xpath('//li[@class=\"tm-ind-item tm-ind-reviewCount canClick tm-line3\"]//span[@class=\"tm-count\"]').text\n",
    "print(ccount)"
   ]
  },
  {
   "cell_type": "code",
   "execution_count": 28,
   "metadata": {
    "collapsed": true
   },
   "outputs": [],
   "source": [
    "# 关闭页面\n",
    "driver.close()"
   ]
  },
  {
   "cell_type": "code",
   "execution_count": 31,
   "metadata": {
    "collapsed": true
   },
   "outputs": [],
   "source": [
    "# 页面切换回来\n",
    "driver.switch_to.window(driver.window_handles[0])"
   ]
  },
  {
   "cell_type": "code",
   "execution_count": 32,
   "metadata": {},
   "outputs": [
    {
     "name": "stdout",
     "output_type": "stream",
     "text": [
      "【年货节 24期免息】Huawei/华为Mate 30 5G麒麟990超感光徕卡三摄5G智能手机mate305g官方旗舰店\n",
      "¥ 4999.00-5499.00   \n",
      "3.5万+\n",
      "23312\n",
      "===================\n",
      "【年货节 24期免息】Huawei/华为Mate 30 Pro 5G麒麟990徕卡四摄5G芯片智能手机mate30pro5g官方旗舰店\n",
      "¥ 6399.00-7899.00   \n",
      "5.0万+\n",
      "37024\n",
      "===================\n",
      "直降300【6期免息/当天发】Huawei/华为P30手机官方旗舰店正品手机p30pro直降全网通5g华为mate30/nova5/p20\n",
      "¥ 3388.00-4188.00   \n",
      "50\n",
      "113\n",
      "===================\n"
     ]
    }
   ],
   "source": [
    "# 先爬取3个商品试试\n",
    "for i in pros[:3]:\n",
    "    i.click()\n",
    "    driver.switch_to.window(driver.window_handles[1]) \n",
    "    # 商品名称,注意使用单数的element\n",
    "    title = driver.find_element_by_xpath('//h1[@data-spm=\"1000983\"]').text\n",
    "    print(title)\n",
    "    # 价格\n",
    "    price = driver.find_element_by_xpath('//div[@class=\"tm-promo-price\"]').text\n",
    "    print(price)\n",
    "    # 月销量\n",
    "    mcount = driver.find_element_by_xpath('//span[@class=\"tm-count\"]').text\n",
    "    print(mcount)\n",
    "    # 评论数\n",
    "    ccount = driver.find_element_by_xpath('//li[@class=\"tm-ind-item tm-ind-reviewCount canClick tm-line3\"]//span[@class=\"tm-count\"]').text\n",
    "    print(ccount)\n",
    "    print('===================')\n",
    "    driver.close()\n",
    "    driver.switch_to.window(driver.window_handles[0])    "
   ]
  },
  {
   "cell_type": "code",
   "execution_count": 33,
   "metadata": {},
   "outputs": [
    {
     "name": "stdout",
     "output_type": "stream",
     "text": [
      "【年货节 24期免息】Huawei/华为Mate 30 5G麒麟990超感光徕卡三摄5G智能手机mate305g官方旗舰店\n",
      "¥ 4999.00-5499.00   \n",
      "3.5万+\n",
      "23312\n",
      "===================\n",
      "【年货节 24期免息】Huawei/华为Mate 30 Pro 5G麒麟990徕卡四摄5G芯片智能手机mate30pro5g官方旗舰店\n",
      "¥ 6399.00-7899.00   \n",
      "5.0万+\n",
      "37024\n",
      "===================\n",
      "直降300【6期免息/当天发】Huawei/华为P30手机官方旗舰店正品手机p30pro直降全网通5g华为mate30/nova5/p20\n",
      "¥ 3388.00-4188.00   \n",
      "50\n",
      "113\n",
      "===================\n",
      "12期免息立减800【优惠2150】 Huawei/华为 Mate 20 华为Mate20手机官方旗舰店nova5G正品p30pro直降价mate30\n",
      "¥ 2699.00-3199.00   \n",
      "978\n",
      "4990\n",
      "===================\n",
      "【24期分期】HUAWEI/华为 Mate 30 5G版手机华为官方旗舰店全网通华为5g手机正品直降p30pro官网mate30pro5g\n",
      "¥ 3999.00-5499.00   \n",
      "594\n",
      "264\n",
      "===================\n",
      "分期免息HUAWEI/华为Mate30Pro5G版华为官方旗舰店5g全网通华为5g手机官网正品mate305g直降p30pro mate30x\n",
      "¥ 6399.00-7899.00   \n",
      "691\n",
      "422\n",
      "===================\n",
      "可减420元送天猫精灵/华为HONOR 荣耀V20全面屏手机官方旗舰店官网正品magic3青春版预定新V20pro直降麒麟v30\n",
      "¥ 2399.00-2599.00   \n",
      "3230\n",
      "4591\n",
      "===================\n",
      "【24期分期/有礼1100】Huawei/华为 nova 5 Pro手机官方旗舰店正品nova5直降5g手机全网通华为p30pro6期免息\n",
      "¥ 2499.00-2899.00   \n",
      "1087\n",
      "1817\n",
      "===================\n",
      "【直降200】Huawei/华为 nova 5 Pro 新款手机官方旗舰店官网降价5g全网通mate30pro智能手机p30正品5i荣耀6\n",
      "¥ 2499.00-2899.00   \n",
      "5000+\n",
      "8098\n",
      "===================\n",
      "24期免息/新品当天发】Huawei/华为nova 6 5G/4G官方旗舰店正品华为nova6手机5g全网通p30直降mate30新款5pro\n",
      "¥ 3199.00-4199.00   \n",
      "783\n",
      "216\n",
      "===================\n",
      "新品5G【24期免息+送好礼】 Huawei/华为nova 6 5G/4G手机官方旗舰店正品p30/mate30/nova6全网通荣耀pro直降\n",
      "¥ 3199.00-4199.00   \n",
      "342\n",
      "62\n",
      "===================\n",
      "当天发【24期免息】Huawei/华为nova 6 5G/4G 手机官方旗舰店正品nova5pro直降5i新款mate30全网通p30荣耀6se\n",
      "¥ 3199.00-4199.00   \n",
      "360\n",
      "84\n",
      "===================\n",
      "【24期免息+送好礼】HUAWEI/华为 Mate 30 Pro 5G手机官方旗舰店正品mate305G版P30直降40折叠Nova6荣耀x新款\n",
      "¥ 6399.00-7899.00   \n",
      "995\n",
      "407\n",
      "===================\n",
      "【24期分期/送无线充】Huawei/华为 Mate 30 5G版 手机官网官方旗舰店华为手机mate30 pro 5g全网通mate40p30\n",
      "¥ 4299.00-5499.00   \n",
      "706\n",
      "430\n",
      "===================\n",
      "5G新品24期免息当天发Huawei/华为nova 6 5G/4G官方旗舰店正品华为nova6手机全网通p30直降mate30新款荣耀pro\n",
      "¥ 3199.00-4199.00   \n",
      "480\n",
      "219\n",
      "===================\n",
      "【可减460元当天发货】华为HONOR荣耀V20手机麒麟980官方旗舰店官网正品降价新品v20pro联名版magic3分期免息\n"
     ]
    },
    {
     "ename": "NoSuchElementException",
     "evalue": "Message: no such element: Unable to locate element: {\"method\":\"xpath\",\"selector\":\"//div[@class=\"tm-promo-price\"]\"}\n  (Session info: chrome=79.0.3945.88)\n",
     "output_type": "error",
     "traceback": [
      "\u001b[1;31m---------------------------------------------------------------------------\u001b[0m",
      "\u001b[1;31mNoSuchElementException\u001b[0m                    Traceback (most recent call last)",
      "\u001b[1;32m<ipython-input-33-db653a2e337b>\u001b[0m in \u001b[0;36m<module>\u001b[1;34m()\u001b[0m\n\u001b[0;32m     12\u001b[0m     \u001b[0mprint\u001b[0m\u001b[1;33m(\u001b[0m\u001b[0mtitle\u001b[0m\u001b[1;33m)\u001b[0m\u001b[1;33m\u001b[0m\u001b[0m\n\u001b[0;32m     13\u001b[0m     \u001b[1;31m# 价格\u001b[0m\u001b[1;33m\u001b[0m\u001b[1;33m\u001b[0m\u001b[0m\n\u001b[1;32m---> 14\u001b[1;33m     \u001b[0mprice\u001b[0m \u001b[1;33m=\u001b[0m \u001b[0mdriver\u001b[0m\u001b[1;33m.\u001b[0m\u001b[0mfind_element_by_xpath\u001b[0m\u001b[1;33m(\u001b[0m\u001b[1;34m'//div[@class=\"tm-promo-price\"]'\u001b[0m\u001b[1;33m)\u001b[0m\u001b[1;33m.\u001b[0m\u001b[0mtext\u001b[0m\u001b[1;33m\u001b[0m\u001b[0m\n\u001b[0m\u001b[0;32m     15\u001b[0m     \u001b[0mprint\u001b[0m\u001b[1;33m(\u001b[0m\u001b[0mprice\u001b[0m\u001b[1;33m)\u001b[0m\u001b[1;33m\u001b[0m\u001b[0m\n\u001b[0;32m     16\u001b[0m     \u001b[1;31m# 月销量\u001b[0m\u001b[1;33m\u001b[0m\u001b[1;33m\u001b[0m\u001b[0m\n",
      "\u001b[1;32mD:\\Users\\admin\\Anaconda3\\lib\\site-packages\\selenium\\webdriver\\remote\\webdriver.py\u001b[0m in \u001b[0;36mfind_element_by_xpath\u001b[1;34m(self, xpath)\u001b[0m\n\u001b[0;32m    392\u001b[0m             \u001b[0melement\u001b[0m \u001b[1;33m=\u001b[0m \u001b[0mdriver\u001b[0m\u001b[1;33m.\u001b[0m\u001b[0mfind_element_by_xpath\u001b[0m\u001b[1;33m(\u001b[0m\u001b[1;34m'//div/td[1]'\u001b[0m\u001b[1;33m)\u001b[0m\u001b[1;33m\u001b[0m\u001b[0m\n\u001b[0;32m    393\u001b[0m         \"\"\"\n\u001b[1;32m--> 394\u001b[1;33m         \u001b[1;32mreturn\u001b[0m \u001b[0mself\u001b[0m\u001b[1;33m.\u001b[0m\u001b[0mfind_element\u001b[0m\u001b[1;33m(\u001b[0m\u001b[0mby\u001b[0m\u001b[1;33m=\u001b[0m\u001b[0mBy\u001b[0m\u001b[1;33m.\u001b[0m\u001b[0mXPATH\u001b[0m\u001b[1;33m,\u001b[0m \u001b[0mvalue\u001b[0m\u001b[1;33m=\u001b[0m\u001b[0mxpath\u001b[0m\u001b[1;33m)\u001b[0m\u001b[1;33m\u001b[0m\u001b[0m\n\u001b[0m\u001b[0;32m    395\u001b[0m \u001b[1;33m\u001b[0m\u001b[0m\n\u001b[0;32m    396\u001b[0m     \u001b[1;32mdef\u001b[0m \u001b[0mfind_elements_by_xpath\u001b[0m\u001b[1;33m(\u001b[0m\u001b[0mself\u001b[0m\u001b[1;33m,\u001b[0m \u001b[0mxpath\u001b[0m\u001b[1;33m)\u001b[0m\u001b[1;33m:\u001b[0m\u001b[1;33m\u001b[0m\u001b[0m\n",
      "\u001b[1;32mD:\\Users\\admin\\Anaconda3\\lib\\site-packages\\selenium\\webdriver\\remote\\webdriver.py\u001b[0m in \u001b[0;36mfind_element\u001b[1;34m(self, by, value)\u001b[0m\n\u001b[0;32m    976\u001b[0m         return self.execute(Command.FIND_ELEMENT, {\n\u001b[0;32m    977\u001b[0m             \u001b[1;34m'using'\u001b[0m\u001b[1;33m:\u001b[0m \u001b[0mby\u001b[0m\u001b[1;33m,\u001b[0m\u001b[1;33m\u001b[0m\u001b[0m\n\u001b[1;32m--> 978\u001b[1;33m             'value': value})['value']\n\u001b[0m\u001b[0;32m    979\u001b[0m \u001b[1;33m\u001b[0m\u001b[0m\n\u001b[0;32m    980\u001b[0m     \u001b[1;32mdef\u001b[0m \u001b[0mfind_elements\u001b[0m\u001b[1;33m(\u001b[0m\u001b[0mself\u001b[0m\u001b[1;33m,\u001b[0m \u001b[0mby\u001b[0m\u001b[1;33m=\u001b[0m\u001b[0mBy\u001b[0m\u001b[1;33m.\u001b[0m\u001b[0mID\u001b[0m\u001b[1;33m,\u001b[0m \u001b[0mvalue\u001b[0m\u001b[1;33m=\u001b[0m\u001b[1;32mNone\u001b[0m\u001b[1;33m)\u001b[0m\u001b[1;33m:\u001b[0m\u001b[1;33m\u001b[0m\u001b[0m\n",
      "\u001b[1;32mD:\\Users\\admin\\Anaconda3\\lib\\site-packages\\selenium\\webdriver\\remote\\webdriver.py\u001b[0m in \u001b[0;36mexecute\u001b[1;34m(self, driver_command, params)\u001b[0m\n\u001b[0;32m    319\u001b[0m         \u001b[0mresponse\u001b[0m \u001b[1;33m=\u001b[0m \u001b[0mself\u001b[0m\u001b[1;33m.\u001b[0m\u001b[0mcommand_executor\u001b[0m\u001b[1;33m.\u001b[0m\u001b[0mexecute\u001b[0m\u001b[1;33m(\u001b[0m\u001b[0mdriver_command\u001b[0m\u001b[1;33m,\u001b[0m \u001b[0mparams\u001b[0m\u001b[1;33m)\u001b[0m\u001b[1;33m\u001b[0m\u001b[0m\n\u001b[0;32m    320\u001b[0m         \u001b[1;32mif\u001b[0m \u001b[0mresponse\u001b[0m\u001b[1;33m:\u001b[0m\u001b[1;33m\u001b[0m\u001b[0m\n\u001b[1;32m--> 321\u001b[1;33m             \u001b[0mself\u001b[0m\u001b[1;33m.\u001b[0m\u001b[0merror_handler\u001b[0m\u001b[1;33m.\u001b[0m\u001b[0mcheck_response\u001b[0m\u001b[1;33m(\u001b[0m\u001b[0mresponse\u001b[0m\u001b[1;33m)\u001b[0m\u001b[1;33m\u001b[0m\u001b[0m\n\u001b[0m\u001b[0;32m    322\u001b[0m             response['value'] = self._unwrap_value(\n\u001b[0;32m    323\u001b[0m                 response.get('value', None))\n",
      "\u001b[1;32mD:\\Users\\admin\\Anaconda3\\lib\\site-packages\\selenium\\webdriver\\remote\\errorhandler.py\u001b[0m in \u001b[0;36mcheck_response\u001b[1;34m(self, response)\u001b[0m\n\u001b[0;32m    240\u001b[0m                 \u001b[0malert_text\u001b[0m \u001b[1;33m=\u001b[0m \u001b[0mvalue\u001b[0m\u001b[1;33m[\u001b[0m\u001b[1;34m'alert'\u001b[0m\u001b[1;33m]\u001b[0m\u001b[1;33m.\u001b[0m\u001b[0mget\u001b[0m\u001b[1;33m(\u001b[0m\u001b[1;34m'text'\u001b[0m\u001b[1;33m)\u001b[0m\u001b[1;33m\u001b[0m\u001b[0m\n\u001b[0;32m    241\u001b[0m             \u001b[1;32mraise\u001b[0m \u001b[0mexception_class\u001b[0m\u001b[1;33m(\u001b[0m\u001b[0mmessage\u001b[0m\u001b[1;33m,\u001b[0m \u001b[0mscreen\u001b[0m\u001b[1;33m,\u001b[0m \u001b[0mstacktrace\u001b[0m\u001b[1;33m,\u001b[0m \u001b[0malert_text\u001b[0m\u001b[1;33m)\u001b[0m\u001b[1;33m\u001b[0m\u001b[0m\n\u001b[1;32m--> 242\u001b[1;33m         \u001b[1;32mraise\u001b[0m \u001b[0mexception_class\u001b[0m\u001b[1;33m(\u001b[0m\u001b[0mmessage\u001b[0m\u001b[1;33m,\u001b[0m \u001b[0mscreen\u001b[0m\u001b[1;33m,\u001b[0m \u001b[0mstacktrace\u001b[0m\u001b[1;33m)\u001b[0m\u001b[1;33m\u001b[0m\u001b[0m\n\u001b[0m\u001b[0;32m    243\u001b[0m \u001b[1;33m\u001b[0m\u001b[0m\n\u001b[0;32m    244\u001b[0m     \u001b[1;32mdef\u001b[0m \u001b[0m_value_or_default\u001b[0m\u001b[1;33m(\u001b[0m\u001b[0mself\u001b[0m\u001b[1;33m,\u001b[0m \u001b[0mobj\u001b[0m\u001b[1;33m,\u001b[0m \u001b[0mkey\u001b[0m\u001b[1;33m,\u001b[0m \u001b[0mdefault\u001b[0m\u001b[1;33m)\u001b[0m\u001b[1;33m:\u001b[0m\u001b[1;33m\u001b[0m\u001b[0m\n",
      "\u001b[1;31mNoSuchElementException\u001b[0m: Message: no such element: Unable to locate element: {\"method\":\"xpath\",\"selector\":\"//div[@class=\"tm-promo-price\"]\"}\n  (Session info: chrome=79.0.3945.88)\n"
     ]
    }
   ],
   "source": [
    "# 优化代码\n",
    "# 存储\n",
    "titles =[]\n",
    "prices =[]\n",
    "mcounts=[]\n",
    "ccounts = []\n",
    "for i in pros[:15]:\n",
    "    i.click()\n",
    "    driver.switch_to.window(driver.window_handles[1]) \n",
    "    # 商品名称,注意使用单数的element\n",
    "    title = driver.find_element_by_xpath('//h1[@data-spm=\"1000983\"]').text\n",
    "    print(title)\n",
    "    # 价格\n",
    "    price = driver.find_element_by_xpath('//div[@class=\"tm-promo-price\"]').text\n",
    "    print(price)\n",
    "    # 月销量\n",
    "    mcount = driver.find_element_by_xpath('//span[@class=\"tm-count\"]').text\n",
    "    print(mcount)\n",
    "    # 评论数\n",
    "    ccount = driver.find_element_by_xpath('//li[@class=\"tm-ind-item tm-ind-reviewCount canClick tm-line3\"]//span[@class=\"tm-count\"]').text\n",
    "    print(ccount)\n",
    "    print('===================')\n",
    "    # 存储\n",
    "    titles.append(title)\n",
    "    prices.append(price)\n",
    "    mcounts.append(mcount)\n",
    "    ccounts.append(ccount)\n",
    "    driver.close()\n",
    "    driver.switch_to.window(driver.window_handles[0])    "
   ]
  },
  {
   "cell_type": "code",
   "execution_count": 34,
   "metadata": {
    "collapsed": true
   },
   "outputs": [],
   "source": [
    "import pandas as pd"
   ]
  },
  {
   "cell_type": "code",
   "execution_count": 36,
   "metadata": {
    "collapsed": true
   },
   "outputs": [],
   "source": [
    "data = pd.DataFrame()\n",
    "data['名称'] = titles\n",
    "data['价格']= prices\n"
   ]
  },
  {
   "cell_type": "code",
   "execution_count": 37,
   "metadata": {},
   "outputs": [
    {
     "data": {
      "text/html": [
       "<div>\n",
       "<style scoped>\n",
       "    .dataframe tbody tr th:only-of-type {\n",
       "        vertical-align: middle;\n",
       "    }\n",
       "\n",
       "    .dataframe tbody tr th {\n",
       "        vertical-align: top;\n",
       "    }\n",
       "\n",
       "    .dataframe thead th {\n",
       "        text-align: right;\n",
       "    }\n",
       "</style>\n",
       "<table border=\"1\" class=\"dataframe\">\n",
       "  <thead>\n",
       "    <tr style=\"text-align: right;\">\n",
       "      <th></th>\n",
       "      <th>名称</th>\n",
       "      <th>价格</th>\n",
       "    </tr>\n",
       "  </thead>\n",
       "  <tbody>\n",
       "    <tr>\n",
       "      <th>0</th>\n",
       "      <td>【年货节 24期免息】Huawei/华为Mate 30 5G麒麟990超感光徕卡三摄5G智能...</td>\n",
       "      <td>¥ 4999.00-5499.00</td>\n",
       "    </tr>\n",
       "    <tr>\n",
       "      <th>1</th>\n",
       "      <td>【年货节 24期免息】Huawei/华为Mate 30 Pro 5G麒麟990徕卡四摄5G芯...</td>\n",
       "      <td>¥ 6399.00-7899.00</td>\n",
       "    </tr>\n",
       "    <tr>\n",
       "      <th>2</th>\n",
       "      <td>直降300【6期免息/当天发】Huawei/华为P30手机官方旗舰店正品手机p30pro直降...</td>\n",
       "      <td>¥ 3388.00-4188.00</td>\n",
       "    </tr>\n",
       "    <tr>\n",
       "      <th>3</th>\n",
       "      <td>12期免息立减800【优惠2150】 Huawei/华为 Mate 20 华为Mate20手...</td>\n",
       "      <td>¥ 2699.00-3199.00</td>\n",
       "    </tr>\n",
       "    <tr>\n",
       "      <th>4</th>\n",
       "      <td>【24期分期】HUAWEI/华为 Mate 30 5G版手机华为官方旗舰店全网通华为5g手机...</td>\n",
       "      <td>¥ 3999.00-5499.00</td>\n",
       "    </tr>\n",
       "    <tr>\n",
       "      <th>5</th>\n",
       "      <td>分期免息HUAWEI/华为Mate30Pro5G版华为官方旗舰店5g全网通华为5g手机官网正...</td>\n",
       "      <td>¥ 6399.00-7899.00</td>\n",
       "    </tr>\n",
       "    <tr>\n",
       "      <th>6</th>\n",
       "      <td>可减420元送天猫精灵/华为HONOR 荣耀V20全面屏手机官方旗舰店官网正品magic3青...</td>\n",
       "      <td>¥ 2399.00-2599.00</td>\n",
       "    </tr>\n",
       "    <tr>\n",
       "      <th>7</th>\n",
       "      <td>【24期分期/有礼1100】Huawei/华为 nova 5 Pro手机官方旗舰店正品nov...</td>\n",
       "      <td>¥ 2499.00-2899.00</td>\n",
       "    </tr>\n",
       "    <tr>\n",
       "      <th>8</th>\n",
       "      <td>【直降200】Huawei/华为 nova 5 Pro 新款手机官方旗舰店官网降价5g全网通...</td>\n",
       "      <td>¥ 2499.00-2899.00</td>\n",
       "    </tr>\n",
       "    <tr>\n",
       "      <th>9</th>\n",
       "      <td>24期免息/新品当天发】Huawei/华为nova 6 5G/4G官方旗舰店正品华为nova...</td>\n",
       "      <td>¥ 3199.00-4199.00</td>\n",
       "    </tr>\n",
       "    <tr>\n",
       "      <th>10</th>\n",
       "      <td>新品5G【24期免息+送好礼】 Huawei/华为nova 6 5G/4G手机官方旗舰店正品...</td>\n",
       "      <td>¥ 3199.00-4199.00</td>\n",
       "    </tr>\n",
       "    <tr>\n",
       "      <th>11</th>\n",
       "      <td>当天发【24期免息】Huawei/华为nova 6 5G/4G 手机官方旗舰店正品nova5...</td>\n",
       "      <td>¥ 3199.00-4199.00</td>\n",
       "    </tr>\n",
       "    <tr>\n",
       "      <th>12</th>\n",
       "      <td>【24期免息+送好礼】HUAWEI/华为 Mate 30 Pro 5G手机官方旗舰店正品ma...</td>\n",
       "      <td>¥ 6399.00-7899.00</td>\n",
       "    </tr>\n",
       "    <tr>\n",
       "      <th>13</th>\n",
       "      <td>【24期分期/送无线充】Huawei/华为 Mate 30 5G版 手机官网官方旗舰店华为手...</td>\n",
       "      <td>¥ 4299.00-5499.00</td>\n",
       "    </tr>\n",
       "    <tr>\n",
       "      <th>14</th>\n",
       "      <td>5G新品24期免息当天发Huawei/华为nova 6 5G/4G官方旗舰店正品华为nova...</td>\n",
       "      <td>¥ 3199.00-4199.00</td>\n",
       "    </tr>\n",
       "  </tbody>\n",
       "</table>\n",
       "</div>"
      ],
      "text/plain": [
       "                                                   名称                    价格\n",
       "0   【年货节 24期免息】Huawei/华为Mate 30 5G麒麟990超感光徕卡三摄5G智能...  ¥ 4999.00-5499.00   \n",
       "1   【年货节 24期免息】Huawei/华为Mate 30 Pro 5G麒麟990徕卡四摄5G芯...  ¥ 6399.00-7899.00   \n",
       "2   直降300【6期免息/当天发】Huawei/华为P30手机官方旗舰店正品手机p30pro直降...  ¥ 3388.00-4188.00   \n",
       "3   12期免息立减800【优惠2150】 Huawei/华为 Mate 20 华为Mate20手...  ¥ 2699.00-3199.00   \n",
       "4   【24期分期】HUAWEI/华为 Mate 30 5G版手机华为官方旗舰店全网通华为5g手机...  ¥ 3999.00-5499.00   \n",
       "5   分期免息HUAWEI/华为Mate30Pro5G版华为官方旗舰店5g全网通华为5g手机官网正...  ¥ 6399.00-7899.00   \n",
       "6   可减420元送天猫精灵/华为HONOR 荣耀V20全面屏手机官方旗舰店官网正品magic3青...  ¥ 2399.00-2599.00   \n",
       "7   【24期分期/有礼1100】Huawei/华为 nova 5 Pro手机官方旗舰店正品nov...  ¥ 2499.00-2899.00   \n",
       "8   【直降200】Huawei/华为 nova 5 Pro 新款手机官方旗舰店官网降价5g全网通...  ¥ 2499.00-2899.00   \n",
       "9   24期免息/新品当天发】Huawei/华为nova 6 5G/4G官方旗舰店正品华为nova...  ¥ 3199.00-4199.00   \n",
       "10  新品5G【24期免息+送好礼】 Huawei/华为nova 6 5G/4G手机官方旗舰店正品...  ¥ 3199.00-4199.00   \n",
       "11  当天发【24期免息】Huawei/华为nova 6 5G/4G 手机官方旗舰店正品nova5...  ¥ 3199.00-4199.00   \n",
       "12  【24期免息+送好礼】HUAWEI/华为 Mate 30 Pro 5G手机官方旗舰店正品ma...  ¥ 6399.00-7899.00   \n",
       "13  【24期分期/送无线充】Huawei/华为 Mate 30 5G版 手机官网官方旗舰店华为手...  ¥ 4299.00-5499.00   \n",
       "14  5G新品24期免息当天发Huawei/华为nova 6 5G/4G官方旗舰店正品华为nova...  ¥ 3199.00-4199.00   "
      ]
     },
     "execution_count": 37,
     "metadata": {},
     "output_type": "execute_result"
    }
   ],
   "source": [
    "data"
   ]
  },
  {
   "cell_type": "code",
   "execution_count": 38,
   "metadata": {
    "collapsed": true
   },
   "outputs": [],
   "source": [
    "data.to_excel('淘宝商品数据.xlsx')"
   ]
  }
 ],
 "metadata": {
  "kernelspec": {
   "display_name": "Python 3",
   "language": "python",
   "name": "python3"
  },
  "language_info": {
   "codemirror_mode": {
    "name": "ipython",
    "version": 3
   },
   "file_extension": ".py",
   "mimetype": "text/x-python",
   "name": "python",
   "nbconvert_exporter": "python",
   "pygments_lexer": "ipython3",
   "version": "3.6.3"
  }
 },
 "nbformat": 4,
 "nbformat_minor": 2
}
